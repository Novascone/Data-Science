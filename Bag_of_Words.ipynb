{
  "nbformat": 4,
  "nbformat_minor": 0,
  "metadata": {
    "colab": {
      "name": "A4_Cs7675_FirstName_Lastname.ipynb",
      "provenance": [],
      "collapsed_sections": [],
      "toc_visible": true
    },
    "kernelspec": {
      "name": "python3",
      "display_name": "Python 3"
    },
    "language_info": {
      "name": "python"
    }
  },
  "cells": [
    {
      "cell_type": "markdown",
      "metadata": {
        "id": "G6jFm-RhqrDs"
      },
      "source": [
        "# **Assignment 4 : Bag-of-words model**\n",
        "\n",
        "Now that you have learned several different similarity measures, I think it would be cool to apply your unique set of\n",
        "skills on a real-world problem; “Content-based query of articles”.\n",
        "\n",
        "**Goal:**\n",
        "Learn a little bit of text mining by applying cosine similarity measure on text documents. We would like to\n",
        "experience automation of comparison of text documents, which can be applied to a search engine whose\n",
        "job is to look for the most relevant articles in a database to the given keywords.\n",
        "\n",
        "**Input:**\n",
        "\n",
        "*   ├── DataMining.txt (Source: https://en.wikipedia.org/wiki/Data_mining)\n",
        "*   ├── LinearAlgebra.txt (Source: https://en.wikipedia.org/wiki/Linear_algebra)\n",
        "*   ├── MachineLearning.txt (Source: https://en.wikipedia.org/wiki/Machine_learning)\n",
        "*  └── Statistics.txt (Source: https://en.wikipedia.org/wiki/Statistics)\n",
        "\n",
        "\n",
        "**Keywords:** {statistics, analysis, linear, data, mining, knowledge, machine,\n",
        "information, discovery, complexity, memory, pattern, predictive, sampling, vector, dimensional, intelligence, algorithm, mathematics, equation}\n",
        "\n"
      ]
    },
    {
      "cell_type": "markdown",
      "metadata": {
        "id": "JXvKai8iu-qa"
      },
      "source": [
        "**Question 0:** Upload the *'Statistics.txt', 'DataMining.txt', 'LinearAlgebra.txt', and 'MachineLearning.txt'* under the sample_data folder and open the files for reading."
      ]
    },
    {
      "cell_type": "code",
      "metadata": {
        "id": "LydV2A4fY9b5"
      },
      "source": [
        "\n",
        "\n",
        "import numpy as np\n",
        "import string\n",
        "from collections import Counter\n",
        "import math\n",
        "names =['Statistics','Data Mining', 'Linear Algebra','Machine Learning']\n",
        "\n",
        "doc1_stats = open(\"sample_data/Statistics.txt\", \"r\").read().lower()\n",
        "doc2_DM = open(\"sample_data/DataMining.txt\", \"r\").read().lower()\n",
        "doc3_LA = open(\"sample_data/LinearAlgebra.txt\", \"r\").read().lower()\n",
        "doc4_ML = open(\"sample_data/MachineLearning.txt\", \"r\").read().lower()\n",
        "\n",
        "keywords = ['statistics', 'analysis', 'linear', 'data', 'mining', 'knowledge', 'machine',\n",
        "'information','discovery','complexity','memory', 'pattern', 'predictive', 'sampling', 'vector','dimensional', 'intelligence', 'algorithm','mathematics','equation']\n"
      ],
      "execution_count": 20,
      "outputs": []
    },
    {
      "cell_type": "code",
      "metadata": {
        "colab": {
          "base_uri": "https://localhost:8080/"
        },
        "id": "VhvMauoYiGCg",
        "outputId": "18116da2-b439-4dd1-ce04-e79afc9fd390"
      },
      "source": [
        "pip install matplotlib --upgrade"
      ],
      "execution_count": 2,
      "outputs": [
        {
          "output_type": "stream",
          "text": [
            "Requirement already up-to-date: matplotlib in /usr/local/lib/python3.7/dist-packages (3.4.1)\n",
            "Requirement already satisfied, skipping upgrade: numpy>=1.16 in /usr/local/lib/python3.7/dist-packages (from matplotlib) (1.19.5)\n",
            "Requirement already satisfied, skipping upgrade: pillow>=6.2.0 in /usr/local/lib/python3.7/dist-packages (from matplotlib) (7.1.2)\n",
            "Requirement already satisfied, skipping upgrade: kiwisolver>=1.0.1 in /usr/local/lib/python3.7/dist-packages (from matplotlib) (1.3.1)\n",
            "Requirement already satisfied, skipping upgrade: python-dateutil>=2.7 in /usr/local/lib/python3.7/dist-packages (from matplotlib) (2.8.1)\n",
            "Requirement already satisfied, skipping upgrade: cycler>=0.10 in /usr/local/lib/python3.7/dist-packages (from matplotlib) (0.10.0)\n",
            "Requirement already satisfied, skipping upgrade: pyparsing>=2.2.1 in /usr/local/lib/python3.7/dist-packages (from matplotlib) (2.4.7)\n",
            "Requirement already satisfied, skipping upgrade: six>=1.5 in /usr/local/lib/python3.7/dist-packages (from python-dateutil>=2.7->matplotlib) (1.15.0)\n",
            "\u001b[31mERROR: Operation cancelled by user\u001b[0m\n"
          ],
          "name": "stdout"
        }
      ]
    },
    {
      "cell_type": "markdown",
      "metadata": {
        "id": "XtqFWSCjr38s"
      },
      "source": [
        "**Question 1:** Define a function that takes the keywords list and a given document as an input and returns a dictionary of the terms occurances in the keywords list."
      ]
    },
    {
      "cell_type": "code",
      "metadata": {
        "id": "i7HgB4Paa1d7"
      },
      "source": [
        "def get_dictionary(keywords, documment):\n",
        "  termfrequnecy_dictionary = dict()\n",
        "  for i in range(len(keywords)):\n",
        "    occurrences = documment.count(keywords[i])\n",
        "    termfrequnecy_dictionary.update({keywords[i]:occurrences})\n",
        "  return termfrequnecy_dictionary\n"
      ],
      "execution_count": 21,
      "outputs": []
    },
    {
      "cell_type": "markdown",
      "metadata": {
        "id": "vjSbT4-7v4KS"
      },
      "source": [
        "**Question 2:** Define a function that takes two dictionaries and returns the cosine similarity between their values. \n",
        "> \n",
        "    Hint: The cosine similarity is equal to 1 - cosine distance\n"
      ]
    },
    {
      "cell_type": "code",
      "metadata": {
        "id": "EFyMHn_zr2bG",
        "colab": {
          "base_uri": "https://localhost:8080/"
        },
        "outputId": "51dfbc04-ed78-450c-a919-3abe32a05048"
      },
      "source": [
        "from scipy.spatial.distance import cosine\n",
        "import pandas as pd\n",
        "\n",
        "def get_cosineSimilairy(termfrequnecy_dictionary1, termfrequnecy_dictionary2):\n",
        "  dict1 = pd.Series(termfrequnecy_dictionary1)\n",
        "  dict2 = pd.Series(termfrequnecy_dictionary2)\n",
        "\n",
        "  similarity = (1 - cosine(dict1, dict2))\n",
        "  return similarity\n",
        "\n",
        "print(get_cosineSimilairy(get_dictionary(keywords,doc1_stats), get_dictionary(keywords,doc2_DM)))\n",
        "\n",
        "\n",
        "#ref https://stackoverflow.com/questions/41827983/right-way-to-calculate-the-cosine-similarity-of-two-word-frequency-dictionaries"
      ],
      "execution_count": 22,
      "outputs": [
        {
          "output_type": "stream",
          "text": [
            "0.5151122398156225\n"
          ],
          "name": "stdout"
        }
      ]
    },
    {
      "cell_type": "markdown",
      "metadata": {
        "id": "jr9GOgL66oX7"
      },
      "source": [
        "**Question 3:** Draw the cosine similarity matrix between the four documents like the example below: https://drive.google.com/file/d/16MGf5KBO9A8JORodEYVRbOvUSswLTvuj/view?usp=sharing"
      ]
    },
    {
      "cell_type": "code",
      "metadata": {
        "id": "mxW9W6Hx98Th",
        "colab": {
          "base_uri": "https://localhost:8080/",
          "height": 344
        },
        "outputId": "bd294d56-0316-49f0-abd3-ad2679030ad3"
      },
      "source": [
        "import matplotlib.pyplot as plt\n",
        "%matplotlib inline\n",
        "\n",
        "category_names = ['Stats', 'Data', 'linear','machine']\n",
        "results = {\n",
        "  'one': [0,0.5151122398156225,0.10023952792479451,0.3643866661418129],\n",
        "  'two': [0.5151122398156225,0,0.01977984151119183,0.5552811278594216],\n",
        "  'three': [0.10023952792479451,0.01977984151119183,0,0.09734680548155406],\n",
        "  'four': [0.3643866661418129,0.5552811278594216,0.09734680548155406,0]\n",
        "}\n",
        "\n",
        "def draw_matrix(results, category_names):\n",
        "  # a = get_cosineSimilairy(get_dictionary(keywords,doc1_stats),get_dictionary(keywords,doc2_DM))\n",
        "  # b = get_cosineSimilairy(get_dictionary(keywords,doc1_stats),get_dictionary(keywords,doc3_LA))\n",
        "  # c = get_cosineSimilairy(get_dictionary(keywords,doc1_stats),get_dictionary(keywords,doc4_ML))\n",
        "  # d = get_cosineSimilairy(get_dictionary(keywords,doc2_DM),get_dictionary(keywords,doc3_LA))\n",
        "  # e = get_cosineSimilairy(get_dictionary(keywords,doc2_DM),get_dictionary(keywords,doc4_ML))\n",
        "  # f = get_cosineSimilairy(get_dictionary(keywords,doc3_LA),get_dictionary(keywords,doc4_ML))\n",
        "  # print(\"---1 compared to 2 : \",a,\"---1 compared to 3 : \",b,\"---1 compared to 4 : \",c,\"---2 compared to 3 : \",d,\"---2 compared to 4 : \",e,\"---3 compared to 4 : \",f)\n",
        "  # stats =[0,0.5151122398156225,0.10023952792479451,0.3643866661418129]\n",
        "  # datamining =[0.5151122398156225,0,0.01977984151119183,0.5552811278594216]\n",
        "  # linear =[0.10023952792479451,0.01977984151119183,0,0.09734680548155406]\n",
        "  # machine =[0.3643866661418129,0.5552811278594216,0.09734680548155406,0]\n",
        "  labels = list(results.keys())\n",
        "  data = np.array(list(results.values()))\n",
        "  data_cum = data.cumsum(axis=1)\n",
        "  category_colors = plt.get_cmap('RdYlGn')(\n",
        "      np.linspace(0.15, 0.85, data.shape[1]))\n",
        "\n",
        "  fig, ax = plt.subplots(figsize=(9.2, 5))\n",
        "  ax.invert_yaxis()\n",
        "  ax.xaxis.set_visible(False)\n",
        "  ax.set_xlim(0, np.sum(data, axis=1).max())\n",
        "\n",
        "  for i, (colname, color) in enumerate(zip(category_names, category_colors)):\n",
        "      widths = data[:, i]\n",
        "      starts = data_cum[:, i] - widths\n",
        "      rects = ax.barh(labels, widths, left=starts, height=0.5,\n",
        "                      label=colname, color=color)\n",
        "\n",
        "      r, g, b, _ = color\n",
        "      text_color = 'white' if r * g * b < 0.5 else 'darkgrey'\n",
        "      ax.bar_label(rects, label_type='center', color=text_color)\n",
        "  ax.legend(ncol=len(category_names), bbox_to_anchor=(0, 1),\n",
        "            loc='lower left', fontsize='small')\n",
        "\n",
        "  return fig, ax\n",
        "\n",
        "  # print(results)\n",
        "\n",
        "draw_matrix(results, category_names)\n",
        "\n",
        "#from the matplotlib docs https://matplotlib.org/stable/gallery/lines_bars_and_markers/horizontal_barchart_distribution.html\n"
      ],
      "execution_count": 23,
      "outputs": [
        {
          "output_type": "execute_result",
          "data": {
            "text/plain": [
              "(<Figure size 662.4x360 with 1 Axes>, <AxesSubplot:>)"
            ]
          },
          "metadata": {
            "tags": []
          },
          "execution_count": 23
        },
        {
          "output_type": "display_data",
          "data": {
            "image/png": "[encoded data removed]",
            "text/plain": [
              "<Figure size 662.4x360 with 1 Axes>"
            ]
          },
          "metadata": {
            "tags": [],
            "needs_background": "light"
          }
        }
      ]
    },
    {
      "cell_type": "markdown",
      "metadata": {
        "id": "LCT5meuIz9Yc"
      },
      "source": [
        "**Question 4:** Define a function that computes the inverse document frequency (IDF) of the terms in the keywords list.\n",
        "\n",
        "    Hint:\n",
        "    *   IDF = log(n/df(d,t))\n",
        "    *   n: number of documents, in this case we have 4 documents.\n",
        "    *   df(d,t): the number of documents containing the term t.\n",
        "\n",
        "\n",
        "\n",
        "\n"
      ]
    },
    {
      "cell_type": "code",
      "metadata": {
        "id": "2S9QE_773p1e",
        "colab": {
          "base_uri": "https://localhost:8080/"
        },
        "outputId": "a8d665ef-af75-40a8-eda2-320574f87d95"
      },
      "source": [
        "import math\n",
        "dictionary_lst = [get_dictionary(keywords, doc1_stats),\n",
        "                  get_dictionary(keywords, doc2_DM),\n",
        "                  get_dictionary(keywords, doc3_LA),\n",
        "                  get_dictionary(keywords, doc4_ML)] \n",
        "\n",
        "def get_IDF(keywords, dictionary_lst):\n",
        "  IDF = {}\n",
        "  n = len(dictionary_lst)\n",
        "  \n",
        "  IDF = dict.fromkeys(dictionary_lst[0].keys(),0)\n",
        "  for doc in dictionary_lst:\n",
        "    for word, val in doc.items():\n",
        "      if val > 0:\n",
        "        IDF[word] += 1\n",
        "  for word, val in IDF.items():\n",
        "    IDF[word] = math.log10(n/float(val))\n",
        "\n",
        "  return IDF\n",
        "\n",
        "get_IDF(keywords, dictionary_lst)\n",
        "\n",
        "#ref https://www.freecodecamp.org/news/how-to-process-textual-data-using-tf-idf-in-python-cd2bbc0a94a3/"
      ],
      "execution_count": 60,
      "outputs": [
        {
          "output_type": "execute_result",
          "data": {
            "text/plain": [
              "{'algorithm': 0.0,\n",
              " 'analysis': 0.0,\n",
              " 'complexity': 0.3010299956639812,\n",
              " 'data': 0.0,\n",
              " 'dimensional': 0.3010299956639812,\n",
              " 'discovery': 0.3010299956639812,\n",
              " 'equation': 0.3010299956639812,\n",
              " 'information': 0.12493873660829992,\n",
              " 'intelligence': 0.12493873660829992,\n",
              " 'knowledge': 0.12493873660829992,\n",
              " 'linear': 0.0,\n",
              " 'machine': 0.12493873660829992,\n",
              " 'mathematics': 0.12493873660829992,\n",
              " 'memory': 0.6020599913279624,\n",
              " 'mining': 0.0,\n",
              " 'pattern': 0.12493873660829992,\n",
              " 'predictive': 0.12493873660829992,\n",
              " 'sampling': 0.6020599913279624,\n",
              " 'statistics': 0.0,\n",
              " 'vector': 0.0}"
            ]
          },
          "metadata": {
            "tags": []
          },
          "execution_count": 60
        }
      ]
    },
    {
      "cell_type": "markdown",
      "metadata": {
        "id": "aRY6_Mum48K6"
      },
      "source": [
        "**Question 5:** Define a function that computes the TF-IDF vector for each document.\n",
        "> \n",
        "    Hint:\n",
        "    *   TF-IDF = TF * IDF\n",
        "    *   TF: frequency of the terms computed in the dictionary\n",
        "\n"
      ]
    },
    {
      "cell_type": "code",
      "metadata": {
        "id": "ZqR4jyjI5pCv",
        "colab": {
          "base_uri": "https://localhost:8080/"
        },
        "outputId": "3a1c0258-8e65-47d2-c600-b4fbf17188c7"
      },
      "source": [
        "def get_TFIDF(termfrequnecy_dictionary1, IDF):\n",
        "  TFIDF = []\n",
        "  for word in IDF:\n",
        "    TFIDF.append(float(termfrequnecy_dictionary1[word]) * float(IDF[word]))\n",
        "  return TFIDF\n",
        "\n",
        "get_TFIDF(get_dictionary(keywords,doc4_ML),get_IDF(keywords, dictionary_lst))"
      ],
      "execution_count": 71,
      "outputs": [
        {
          "output_type": "execute_result",
          "data": {
            "text/plain": [
              "[0.0,\n",
              " 0.0,\n",
              " 0.0,\n",
              " 0.0,\n",
              " 0.0,\n",
              " 2.123958522341099,\n",
              " 23.238605009143786,\n",
              " 1.9990197857327987,\n",
              " 2.709269960975831,\n",
              " 1.505149978319906,\n",
              " 1.806179973983887,\n",
              " 2.123958522341099,\n",
              " 0.4997549464331997,\n",
              " 0.0,\n",
              " 0.0,\n",
              " 2.4082399653118496,\n",
              " 3.498284625032398,\n",
              " 0.0,\n",
              " 0.12493873660829992,\n",
              " 0.0]"
            ]
          },
          "metadata": {
            "tags": []
          },
          "execution_count": 71
        }
      ]
    },
    {
      "cell_type": "markdown",
      "metadata": {
        "id": "4K913MhB56M5"
      },
      "source": [
        "**Question 6:** What is the most important term for each of the four documents? (term with the highest TF-IDF score)\n",
        "\n",
        "1. The most important term for *Statistics.txt* is: Sampling\n",
        "2. The most important term for *DataMining.txt* is: Discovery\n",
        "3. The most important term for *LinearAlgebra.txt* is: Equation \n",
        "4. Rhe most important term for *MachineLearning.txt* is: Machine "
      ]
    }
  ]
}